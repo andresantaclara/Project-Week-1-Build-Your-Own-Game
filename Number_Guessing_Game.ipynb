{
 "cells": [
  {
   "cell_type": "markdown",
   "metadata": {},
   "source": [
    "# Numbers Guessing Game - Breaking the problem down"
   ]
  },
  {
   "cell_type": "markdown",
   "metadata": {},
   "source": [
    "### What libraries do I need to import"
   ]
  },
  {
   "cell_type": "code",
   "execution_count": null,
   "metadata": {},
   "outputs": [],
   "source": [
    "import random"
   ]
  },
  {
   "cell_type": "code",
   "execution_count": null,
   "metadata": {},
   "outputs": [],
   "source": [
    "from random import choice"
   ]
  },
  {
   "cell_type": "markdown",
   "metadata": {},
   "source": [
    "### Instructions to the game "
   ]
  },
  {
   "cell_type": "code",
   "execution_count": null,
   "metadata": {},
   "outputs": [],
   "source": [
    "print(\"Welcome to the Guessing Game\")"
   ]
  },
  {
   "cell_type": "code",
   "execution_count": null,
   "metadata": {},
   "outputs": [],
   "source": [
    "print(\"\"\"André the Magician will pick a secret number and put it in his hat. \n",
    "      You guess what number it is. \n",
    "      If your guess is too high or too low, Andre will give you a hint. \n",
    "      See how many turns it takes you to win!\"\"\")"
   ]
  },
  {
   "cell_type": "markdown",
   "metadata": {},
   "source": [
    "### What are the main things to code & definitions I will need to define"
   ]
  },
  {
   "cell_type": "markdown",
   "metadata": {},
   "source": [
    "* **Different Levels** - *Using Dictionaries* - I would like to create different levels of difficulty, which will depend on the range of numbers to guess on\n",
    "\n",
    "* **Secret Number** - *Using choice function from random* - I need the computer to pick a random number from a range of my choosing\n",
    "\n",
    "* **User Guess** - *Using the input function / try* - I will need the user to input a number to guess the secret number\n",
    "\n",
    "* **Definition Who Wins** - *making a def* - I will need a definition that decides if the user guess it too high, too low or correct\n",
    "\n",
    "* **Number of tries** - *Using loops* - Will want to keep account of the number of tries the user has played\n",
    "\n",
    "* **Keep playing?** - *Using while & ifs* - I want to ask if the user wants to keep playing at the end of the game\n",
    "\n",
    "* **Start button** - *Using a Main function* - I would like to play the game without having to go through all the lines of notebook\n",
    "\n",
    "* **ipywidgets library** - *downloading/importing library* - if possible implement these widgets after coding for code to have a better user experience"
   ]
  },
  {
   "cell_type": "markdown",
   "metadata": {},
   "source": [
    "### Coding time"
   ]
  },
  {
   "cell_type": "markdown",
   "metadata": {},
   "source": [
    "#### Different levels"
   ]
  },
  {
   "cell_type": "code",
   "execution_count": null,
   "metadata": {},
   "outputs": [],
   "source": [
    "# Different level dictionary. Each level will depend on a range\n",
    "\n",
    "level = { \"Beginner\": [0,10],\n",
    "         \n",
    "         \"Intermediate\": [0,25],\n",
    "         \n",
    "         \"Expert\": [0,50],\n",
    "         \n",
    "         \"Master\": [0,100]    \n",
    "}"
   ]
  },
  {
   "cell_type": "markdown",
   "metadata": {},
   "source": [
    "#### Secret number by computer"
   ]
  },
  {
   "cell_type": "code",
   "execution_count": null,
   "metadata": {},
   "outputs": [],
   "source": [
    "# This is dependent on the level that the user chooses. So it must refer back to the dictionary defined. "
   ]
  },
  {
   "cell_type": "code",
   "execution_count": null,
   "metadata": {},
   "outputs": [],
   "source": [
    "user_level = \"\"\n",
    "\n",
    "while user_level not in level:\n",
    "    user_level = input(\"\"\" Which level do you want to play - Type: Beginner, Intermediate, Expert or Master (this is case sensitive): \"\"\")"
   ]
  },
  {
   "cell_type": "code",
   "execution_count": null,
   "metadata": {},
   "outputs": [],
   "source": [
    "# how to apply the ranges of the level which will need to be put by computer\n",
    "\n",
    "example_random = range(level[\"Beginner\"][0],level[\"Beginner\"][1] +1)\n",
    "random.choice(example_random)"
   ]
  },
  {
   "cell_type": "code",
   "execution_count": null,
   "metadata": {},
   "outputs": [],
   "source": [
    "# Use range from dictionary from the user_level input and draw a random number from that range and store in a variable"
   ]
  },
  {
   "cell_type": "code",
   "execution_count": null,
   "metadata": {},
   "outputs": [],
   "source": [
    "secret_number = random.choice(range(level[user_level][0],level[user_level][1]))"
   ]
  },
  {
   "cell_type": "markdown",
   "metadata": {},
   "source": [
    "#### User Guess"
   ]
  },
  {
   "cell_type": "code",
   "execution_count": null,
   "metadata": {},
   "outputs": [],
   "source": [
    "user_guess = \"\"\n",
    "\n",
    "while type(user_guess) != int:\n",
    "    try:\n",
    "        user_guess = int(input(\"What is your number guess: \"))\n",
    "\n",
    "    except: \n",
    "        print(\"Please make sure you write a number\")"
   ]
  },
  {
   "cell_type": "markdown",
   "metadata": {},
   "source": [
    "#### Definition of who wins"
   ]
  },
  {
   "cell_type": "code",
   "execution_count": null,
   "metadata": {},
   "outputs": [],
   "source": [
    "def comparing_user_guess_vs_computer_number(user_guess,secret_number):\n",
    "    \n",
    "    if user_guess > secret_number:\n",
    "        print(\"Youre guess is too high. Keep trying...\")\n",
    "        \n",
    "    if user_guess < secret_number:\n",
    "        print(\"Your guess is too low. Keep trying...\")\n",
    "    \n",
    "    if user_guess == secret_number:\n",
    "        print(\"You Guessed it! You must be an Iron Hacker because you ROCK!\")   "
   ]
  },
  {
   "cell_type": "markdown",
   "metadata": {},
   "source": [
    "#### Number of tries"
   ]
  },
  {
   "cell_type": "code",
   "execution_count": null,
   "metadata": {},
   "outputs": [],
   "source": [
    "number_of_tries = 0"
   ]
  },
  {
   "cell_type": "markdown",
   "metadata": {},
   "source": [
    "#### Putting the code together"
   ]
  },
  {
   "cell_type": "code",
   "execution_count": 3,
   "metadata": {},
   "outputs": [],
   "source": [
    "import random\n",
    "from random import choice\n",
    "\n",
    "# Different level dictionary. Each level will depend on a range\n",
    "\n",
    "level = { \"Beginner\": [0,10],\n",
    "         \n",
    "         \"Intermediate\": [0,25],\n",
    "         \n",
    "         \"Expert\": [0,50],\n",
    "         \n",
    "         \"Master\": [0,100]    \n",
    "                                }\n",
    "\n",
    "def comparing_user_guess_vs_computer_number(user_guess,secret_number):\n",
    "    \n",
    "    if user_guess > secret_number:\n",
    "        print(\"Guess lower. Keep trying...\")\n",
    "        \n",
    "    if user_guess < secret_number:\n",
    "        print(\"Guess higher. Keep trying...\")\n",
    "    \n",
    "    if user_guess == secret_number:\n",
    "        print(\"You Guessed it! You must be an Iron Hacker because you ROCK!\")   \n",
    "\n",
    "def playing_the_game():\n",
    "    \n",
    "    keep_playing = True\n",
    "\n",
    "    while keep_playing: \n",
    "\n",
    "        print(\"Welcome to the Guessing Game!\")\n",
    "\n",
    "        user_level = \"\"\n",
    "\n",
    "        while user_level not in level:\n",
    "            user_level = input(\"\"\"Which level (depending on range of numbers)\n",
    "            do you want to play - Type: Beginner - (0-10), Intermediate - (0-25),\n",
    "            Expert - (0-50) or Master - (0-100)... Ps this is case sensitive: \"\"\")\n",
    "\n",
    "        secret_number = random.choice(range(level[user_level][0],level[user_level][1]))\n",
    "\n",
    "        user_guess = \"\"\n",
    "        number_of_tries = 0\n",
    "        \n",
    "        \n",
    "        while user_guess != secret_number:\n",
    "\n",
    "                try:\n",
    "                    user_guess = int(input(\"What is your number guess: \")) \n",
    "                except:\n",
    "                    continue\n",
    "                comparing_user_guess_vs_computer_number(user_guess,secret_number)\n",
    "                number_of_tries += 1    \n",
    "\n",
    "\n",
    "        print(\"Your total number of tries: \", number_of_tries)\n",
    "\n",
    "        inp_user = \"\"\n",
    "\n",
    "        while inp_user != \"No\" and inp_user != \"Yes\":\n",
    "            inp_user = input(\"Do you want to keep playing (Yes or No - case sensitive):\")\n",
    "\n",
    "        if inp_user == \"No\":\n",
    "            print(\"Thank you for playing\")\n",
    "            keep_playing = False\n",
    "\n"
   ]
  },
  {
   "cell_type": "markdown",
   "metadata": {},
   "source": [
    "#### Putting a start button in order to play. "
   ]
  },
  {
   "cell_type": "markdown",
   "metadata": {},
   "source": [
    "* For this we needed to make the whole code into a definition"
   ]
  },
  {
   "cell_type": "code",
   "execution_count": 4,
   "metadata": {},
   "outputs": [
    {
     "name": "stdout",
     "output_type": "stream",
     "text": [
      "Welcome to the Guessing Game!\n",
      "Which level (depending on range of numbers)\n",
      "            do you want to play - Type: Beginner - (0-10), Intermediate - (0-25),\n",
      "            Expert - (0-50) or Master - (0-100)... Ps this is case sensitive: Master\n",
      "What is your number guess: 50\n",
      "Guess higher. Keep trying...\n",
      "What is your number guess: 70\n",
      "Guess higher. Keep trying...\n",
      "What is your number guess: 80\n",
      "Guess lower. Keep trying...\n",
      "What is your number guess: 75\n",
      "Guess higher. Keep trying...\n",
      "What is your number guess: 77\n",
      "Guess higher. Keep trying...\n",
      "What is your number guess: 78\n",
      "Guess higher. Keep trying...\n",
      "What is your number guess: 79\n",
      "You Guessed it! You must be an Iron Hacker because you ROCK!\n",
      "Your total number of tries:  7\n",
      "Do you want to keep playing (Yes or No - case sensitive):No\n",
      "Thank you for playing\n"
     ]
    }
   ],
   "source": [
    "playing_the_game()"
   ]
  }
 ],
 "metadata": {
  "kernelspec": {
   "display_name": "Python 3",
   "language": "python",
   "name": "python3"
  },
  "language_info": {
   "codemirror_mode": {
    "name": "ipython",
    "version": 3
   },
   "file_extension": ".py",
   "mimetype": "text/x-python",
   "name": "python",
   "nbconvert_exporter": "python",
   "pygments_lexer": "ipython3",
   "version": "3.8.3"
  }
 },
 "nbformat": 4,
 "nbformat_minor": 4
}
