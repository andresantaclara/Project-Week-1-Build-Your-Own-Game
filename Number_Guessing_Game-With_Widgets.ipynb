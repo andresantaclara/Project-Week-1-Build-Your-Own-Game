{
 "cells": [
  {
   "cell_type": "markdown",
   "metadata": {},
   "source": [
    "# Numbers Guessing Game - with Widgets"
   ]
  },
  {
   "cell_type": "code",
   "execution_count": null,
   "metadata": {},
   "outputs": [],
   "source": [
    "import random\n",
    "from random import choice\n",
    "import ipywidgets as widgets\n",
    "\n",
    "# Different level dictionary. Each level will depend on a range\n",
    "\n",
    "level = { \"Beginner: 0-10\": [0,10],\n",
    "         \n",
    "         \"Intermediate: 0-25\": [0,25],\n",
    "         \n",
    "         \"Expert: 0-50\": [0,50],\n",
    "         \n",
    "         \"Master: 0-100\": [0,100]    \n",
    "                                }\n",
    "\n",
    "def comparing_user_guess_vs_computer_number(user_guess,secret_number):\n",
    "    \n",
    "    if user_guess > secret_number:\n",
    "        print(\"Guess lower. Keep trying...\")\n",
    "        \n",
    "    if user_guess < secret_number:\n",
    "        print(\"Guess higher. Keep trying...\")\n",
    "    \n",
    "    if user_guess == secret_number:\n",
    "        print(\"You Guessed it! You must be an Iron Hacker because you ROCK!\")   \n",
    "\n",
    "def playing_the_game():\n",
    "    \n",
    "    keep_playing = True\n",
    "\n",
    "    while keep_playing: \n",
    "\n",
    "        print(\"Welcome to the Guessing Game!\")\n",
    "        \n",
    "        a = widgets.RadioButtons(\n",
    "            options = ['Beginner: 0-10', 'Intermediate: 0-25', 'Expert: 0-50','Master: 0-100'],\n",
    "            description='Which level do you choose:',\n",
    "            disabled = False\n",
    "            )\n",
    "        \n",
    "        a\n",
    "        \n",
    "        secret_number = random.choice(range(level[a.value][0],level[a.value][1]))\n",
    "\n",
    "        user_guess = \"\"\n",
    "        number_of_tries = 0\n",
    "        \n",
    "        \n",
    "        while user_guess != secret_number:\n",
    "\n",
    "                try:\n",
    "                    user_guess = int(input(\"What is your number guess: \")) \n",
    "                except:\n",
    "                    continue\n",
    "                comparing_user_guess_vs_computer_number(user_guess,secret_number)\n",
    "                number_of_tries += 1    \n",
    "\n",
    "\n",
    "        print(\"Your total number of tries: \", number_of_tries)\n",
    "\n",
    "        inp_user = \"\"\n",
    "\n",
    "        while inp_user != \"No\" and inp_user != \"Yes\":\n",
    "            inp_user = input(\"Do you want to keep playing (Yes or No - case sensitive):\")\n",
    "\n",
    "        if inp_user == \"No\":\n",
    "            print(\"Thank you for playing\")\n",
    "            keep_playing = False"
   ]
  },
  {
   "cell_type": "code",
   "execution_count": null,
   "metadata": {},
   "outputs": [],
   "source": [
    "playing_the_game()"
   ]
  },
  {
   "cell_type": "code",
   "execution_count": null,
   "metadata": {},
   "outputs": [],
   "source": [
    "import ipywidgets as widgets\n",
    "\n",
    "a = widgets.RadioButtons(\n",
    "    options=['pepperoni', 'pineapple', 'anchovies'],\n",
    "    description='Pizza topping:',\n",
    "    disabled=False\n",
    ")"
   ]
  },
  {
   "cell_type": "code",
   "execution_count": null,
   "metadata": {},
   "outputs": [],
   "source": [
    "a"
   ]
  },
  {
   "cell_type": "code",
   "execution_count": null,
   "metadata": {},
   "outputs": [],
   "source": [
    "a.value"
   ]
  },
  {
   "cell_type": "code",
   "execution_count": null,
   "metadata": {},
   "outputs": [],
   "source": []
  }
 ],
 "metadata": {
  "kernelspec": {
   "display_name": "Python 3",
   "language": "python",
   "name": "python3"
  },
  "language_info": {
   "codemirror_mode": {
    "name": "ipython",
    "version": 3
   },
   "file_extension": ".py",
   "mimetype": "text/x-python",
   "name": "python",
   "nbconvert_exporter": "python",
   "pygments_lexer": "ipython3",
   "version": "3.8.3"
  }
 },
 "nbformat": 4,
 "nbformat_minor": 4
}
